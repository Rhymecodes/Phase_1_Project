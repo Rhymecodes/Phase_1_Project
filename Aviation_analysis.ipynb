{
 "cells": [
  {
   "cell_type": "markdown",
   "metadata": {},
   "source": [
    "# DATA LOADING\n",
    "\n",
    "Here, we'll start by importing libraries.\n",
    "After that we load the data"
   ]
  },
  {
   "cell_type": "code",
   "execution_count": 104,
   "metadata": {},
   "outputs": [],
   "source": [
    "#importing the libraries that will be used in analysing the data.\n",
    "import pandas as pd\n",
    "import numpy as np\n",
    "import matplotlib.pyplot as plt"
   ]
  },
  {
   "cell_type": "code",
   "execution_count": 105,
   "metadata": {},
   "outputs": [
    {
     "name": "stderr",
     "output_type": "stream",
     "text": [
      "C:\\Users\\sarah\\AppData\\Local\\Temp\\ipykernel_9436\\2274040542.py:2: DtypeWarning: Columns (6,7,28) have mixed types. Specify dtype option on import or set low_memory=False.\n",
      "  df_aviation = pd.read_csv(r'AviationData.csv', encoding='ISO-8859-1')\n"
     ]
    },
    {
     "data": {
      "text/html": [
       "<div>\n",
       "<style scoped>\n",
       "    .dataframe tbody tr th:only-of-type {\n",
       "        vertical-align: middle;\n",
       "    }\n",
       "\n",
       "    .dataframe tbody tr th {\n",
       "        vertical-align: top;\n",
       "    }\n",
       "\n",
       "    .dataframe thead th {\n",
       "        text-align: right;\n",
       "    }\n",
       "</style>\n",
       "<table border=\"1\" class=\"dataframe\">\n",
       "  <thead>\n",
       "    <tr style=\"text-align: right;\">\n",
       "      <th></th>\n",
       "      <th>Event.Id</th>\n",
       "      <th>Investigation.Type</th>\n",
       "      <th>Accident.Number</th>\n",
       "      <th>Event.Date</th>\n",
       "      <th>Location</th>\n",
       "      <th>Country</th>\n",
       "      <th>Latitude</th>\n",
       "      <th>Longitude</th>\n",
       "      <th>Airport.Code</th>\n",
       "      <th>Airport.Name</th>\n",
       "      <th>...</th>\n",
       "      <th>Purpose.of.flight</th>\n",
       "      <th>Air.carrier</th>\n",
       "      <th>Total.Fatal.Injuries</th>\n",
       "      <th>Total.Serious.Injuries</th>\n",
       "      <th>Total.Minor.Injuries</th>\n",
       "      <th>Total.Uninjured</th>\n",
       "      <th>Weather.Condition</th>\n",
       "      <th>Broad.phase.of.flight</th>\n",
       "      <th>Report.Status</th>\n",
       "      <th>Publication.Date</th>\n",
       "    </tr>\n",
       "  </thead>\n",
       "  <tbody>\n",
       "    <tr>\n",
       "      <th>0</th>\n",
       "      <td>20001218X45444</td>\n",
       "      <td>Accident</td>\n",
       "      <td>SEA87LA080</td>\n",
       "      <td>1948-10-24</td>\n",
       "      <td>MOOSE CREEK, ID</td>\n",
       "      <td>United States</td>\n",
       "      <td>NaN</td>\n",
       "      <td>NaN</td>\n",
       "      <td>NaN</td>\n",
       "      <td>NaN</td>\n",
       "      <td>...</td>\n",
       "      <td>Personal</td>\n",
       "      <td>NaN</td>\n",
       "      <td>2.0</td>\n",
       "      <td>0.0</td>\n",
       "      <td>0.0</td>\n",
       "      <td>0.0</td>\n",
       "      <td>UNK</td>\n",
       "      <td>Cruise</td>\n",
       "      <td>Probable Cause</td>\n",
       "      <td>NaN</td>\n",
       "    </tr>\n",
       "    <tr>\n",
       "      <th>1</th>\n",
       "      <td>20001218X45447</td>\n",
       "      <td>Accident</td>\n",
       "      <td>LAX94LA336</td>\n",
       "      <td>1962-07-19</td>\n",
       "      <td>BRIDGEPORT, CA</td>\n",
       "      <td>United States</td>\n",
       "      <td>NaN</td>\n",
       "      <td>NaN</td>\n",
       "      <td>NaN</td>\n",
       "      <td>NaN</td>\n",
       "      <td>...</td>\n",
       "      <td>Personal</td>\n",
       "      <td>NaN</td>\n",
       "      <td>4.0</td>\n",
       "      <td>0.0</td>\n",
       "      <td>0.0</td>\n",
       "      <td>0.0</td>\n",
       "      <td>UNK</td>\n",
       "      <td>Unknown</td>\n",
       "      <td>Probable Cause</td>\n",
       "      <td>19-09-1996</td>\n",
       "    </tr>\n",
       "    <tr>\n",
       "      <th>2</th>\n",
       "      <td>20061025X01555</td>\n",
       "      <td>Accident</td>\n",
       "      <td>NYC07LA005</td>\n",
       "      <td>1974-08-30</td>\n",
       "      <td>Saltville, VA</td>\n",
       "      <td>United States</td>\n",
       "      <td>36.922223</td>\n",
       "      <td>-81.878056</td>\n",
       "      <td>NaN</td>\n",
       "      <td>NaN</td>\n",
       "      <td>...</td>\n",
       "      <td>Personal</td>\n",
       "      <td>NaN</td>\n",
       "      <td>3.0</td>\n",
       "      <td>NaN</td>\n",
       "      <td>NaN</td>\n",
       "      <td>NaN</td>\n",
       "      <td>IMC</td>\n",
       "      <td>Cruise</td>\n",
       "      <td>Probable Cause</td>\n",
       "      <td>26-02-2007</td>\n",
       "    </tr>\n",
       "    <tr>\n",
       "      <th>3</th>\n",
       "      <td>20001218X45448</td>\n",
       "      <td>Accident</td>\n",
       "      <td>LAX96LA321</td>\n",
       "      <td>1977-06-19</td>\n",
       "      <td>EUREKA, CA</td>\n",
       "      <td>United States</td>\n",
       "      <td>NaN</td>\n",
       "      <td>NaN</td>\n",
       "      <td>NaN</td>\n",
       "      <td>NaN</td>\n",
       "      <td>...</td>\n",
       "      <td>Personal</td>\n",
       "      <td>NaN</td>\n",
       "      <td>2.0</td>\n",
       "      <td>0.0</td>\n",
       "      <td>0.0</td>\n",
       "      <td>0.0</td>\n",
       "      <td>IMC</td>\n",
       "      <td>Cruise</td>\n",
       "      <td>Probable Cause</td>\n",
       "      <td>12-09-2000</td>\n",
       "    </tr>\n",
       "    <tr>\n",
       "      <th>4</th>\n",
       "      <td>20041105X01764</td>\n",
       "      <td>Accident</td>\n",
       "      <td>CHI79FA064</td>\n",
       "      <td>1979-08-02</td>\n",
       "      <td>Canton, OH</td>\n",
       "      <td>United States</td>\n",
       "      <td>NaN</td>\n",
       "      <td>NaN</td>\n",
       "      <td>NaN</td>\n",
       "      <td>NaN</td>\n",
       "      <td>...</td>\n",
       "      <td>Personal</td>\n",
       "      <td>NaN</td>\n",
       "      <td>1.0</td>\n",
       "      <td>2.0</td>\n",
       "      <td>NaN</td>\n",
       "      <td>0.0</td>\n",
       "      <td>VMC</td>\n",
       "      <td>Approach</td>\n",
       "      <td>Probable Cause</td>\n",
       "      <td>16-04-1980</td>\n",
       "    </tr>\n",
       "  </tbody>\n",
       "</table>\n",
       "<p>5 rows × 31 columns</p>\n",
       "</div>"
      ],
      "text/plain": [
       "         Event.Id Investigation.Type Accident.Number  Event.Date  \\\n",
       "0  20001218X45444           Accident      SEA87LA080  1948-10-24   \n",
       "1  20001218X45447           Accident      LAX94LA336  1962-07-19   \n",
       "2  20061025X01555           Accident      NYC07LA005  1974-08-30   \n",
       "3  20001218X45448           Accident      LAX96LA321  1977-06-19   \n",
       "4  20041105X01764           Accident      CHI79FA064  1979-08-02   \n",
       "\n",
       "          Location        Country   Latitude  Longitude Airport.Code  \\\n",
       "0  MOOSE CREEK, ID  United States        NaN        NaN          NaN   \n",
       "1   BRIDGEPORT, CA  United States        NaN        NaN          NaN   \n",
       "2    Saltville, VA  United States  36.922223 -81.878056          NaN   \n",
       "3       EUREKA, CA  United States        NaN        NaN          NaN   \n",
       "4       Canton, OH  United States        NaN        NaN          NaN   \n",
       "\n",
       "  Airport.Name  ... Purpose.of.flight Air.carrier Total.Fatal.Injuries  \\\n",
       "0          NaN  ...          Personal         NaN                  2.0   \n",
       "1          NaN  ...          Personal         NaN                  4.0   \n",
       "2          NaN  ...          Personal         NaN                  3.0   \n",
       "3          NaN  ...          Personal         NaN                  2.0   \n",
       "4          NaN  ...          Personal         NaN                  1.0   \n",
       "\n",
       "  Total.Serious.Injuries Total.Minor.Injuries Total.Uninjured  \\\n",
       "0                    0.0                  0.0             0.0   \n",
       "1                    0.0                  0.0             0.0   \n",
       "2                    NaN                  NaN             NaN   \n",
       "3                    0.0                  0.0             0.0   \n",
       "4                    2.0                  NaN             0.0   \n",
       "\n",
       "  Weather.Condition  Broad.phase.of.flight   Report.Status Publication.Date  \n",
       "0               UNK                 Cruise  Probable Cause              NaN  \n",
       "1               UNK                Unknown  Probable Cause       19-09-1996  \n",
       "2               IMC                 Cruise  Probable Cause       26-02-2007  \n",
       "3               IMC                 Cruise  Probable Cause       12-09-2000  \n",
       "4               VMC               Approach  Probable Cause       16-04-1980  \n",
       "\n",
       "[5 rows x 31 columns]"
      ]
     },
     "execution_count": 105,
     "metadata": {},
     "output_type": "execute_result"
    }
   ],
   "source": [
    "#Loading the 'AviationData.csv' file, and viewing the first five rows.\n",
    "df_aviation = pd.read_csv(r'AviationData.csv', encoding='ISO-8859-1')\n",
    "\n",
    "df_aviation.head()"
   ]
  },
  {
   "cell_type": "markdown",
   "metadata": {},
   "source": [
    "Because we have two datasets required forr the analysis, we are going to load it to see if there's anything that we can use for the analysis"
   ]
  },
  {
   "cell_type": "code",
   "execution_count": 106,
   "metadata": {},
   "outputs": [
    {
     "name": "stdout",
     "output_type": "stream",
     "text": [
      "<class 'pandas.core.frame.DataFrame'>\n",
      "RangeIndex: 62 entries, 0 to 61\n",
      "Data columns (total 2 columns):\n",
      " #   Column        Non-Null Count  Dtype \n",
      "---  ------        --------------  ----- \n",
      " 0   US_State      62 non-null     object\n",
      " 1   Abbreviation  62 non-null     object\n",
      "dtypes: object(2)\n",
      "memory usage: 1.1+ KB\n"
     ]
    },
    {
     "data": {
      "text/plain": [
       "pandas.core.frame.DataFrame"
      ]
     },
     "execution_count": 106,
     "metadata": {},
     "output_type": "execute_result"
    }
   ],
   "source": [
    "df_USState_Codes = pd.read_csv(r'USState_Codes.csv', encoding='ISO-8859-1')\n",
    "\n",
    "df_USState_Codes.head()#To check the first 5 rows of the dataset\n",
    "df_USState_Codes.info() #to check on the information on the USState dataset\n",
    "type(df_USState_Codes) #to check the data type"
   ]
  },
  {
   "cell_type": "markdown",
   "metadata": {},
   "source": [
    "According to the information above, the above dataset has only two columns, US_State and Abbreviation.\n",
    "The data type is a pandas DataFrame\n",
    "These act as a key to the df_Aviation dataset because it has a key that has the US states written in abbreviations.\n",
    "\n",
    "The USState codes dataset does not have a lot of information so we'll just leave focus on the Aviation data at the moment, and we'll use the USState codes data in future in case we need it."
   ]
  },
  {
   "cell_type": "markdown",
   "metadata": {},
   "source": [
    "##### CONTINUING WITH THE AVIATION DATA(df_aviation):"
   ]
  },
  {
   "cell_type": "markdown",
   "metadata": {},
   "source": [
    "You can also view a specific number of rows if you want to. df_aviation.head() \n",
    "specifically views the first 5 rows."
   ]
  },
  {
   "cell_type": "code",
   "execution_count": 107,
   "metadata": {
    "scrolled": true
   },
   "outputs": [
    {
     "data": {
      "text/html": [
       "<div>\n",
       "<style scoped>\n",
       "    .dataframe tbody tr th:only-of-type {\n",
       "        vertical-align: middle;\n",
       "    }\n",
       "\n",
       "    .dataframe tbody tr th {\n",
       "        vertical-align: top;\n",
       "    }\n",
       "\n",
       "    .dataframe thead th {\n",
       "        text-align: right;\n",
       "    }\n",
       "</style>\n",
       "<table border=\"1\" class=\"dataframe\">\n",
       "  <thead>\n",
       "    <tr style=\"text-align: right;\">\n",
       "      <th></th>\n",
       "      <th>Event.Id</th>\n",
       "      <th>Investigation.Type</th>\n",
       "      <th>Accident.Number</th>\n",
       "      <th>Event.Date</th>\n",
       "      <th>Location</th>\n",
       "      <th>Country</th>\n",
       "      <th>Latitude</th>\n",
       "      <th>Longitude</th>\n",
       "      <th>Airport.Code</th>\n",
       "      <th>Airport.Name</th>\n",
       "      <th>...</th>\n",
       "      <th>Purpose.of.flight</th>\n",
       "      <th>Air.carrier</th>\n",
       "      <th>Total.Fatal.Injuries</th>\n",
       "      <th>Total.Serious.Injuries</th>\n",
       "      <th>Total.Minor.Injuries</th>\n",
       "      <th>Total.Uninjured</th>\n",
       "      <th>Weather.Condition</th>\n",
       "      <th>Broad.phase.of.flight</th>\n",
       "      <th>Report.Status</th>\n",
       "      <th>Publication.Date</th>\n",
       "    </tr>\n",
       "  </thead>\n",
       "  <tbody>\n",
       "    <tr>\n",
       "      <th>0</th>\n",
       "      <td>20001218X45444</td>\n",
       "      <td>Accident</td>\n",
       "      <td>SEA87LA080</td>\n",
       "      <td>1948-10-24</td>\n",
       "      <td>MOOSE CREEK, ID</td>\n",
       "      <td>United States</td>\n",
       "      <td>NaN</td>\n",
       "      <td>NaN</td>\n",
       "      <td>NaN</td>\n",
       "      <td>NaN</td>\n",
       "      <td>...</td>\n",
       "      <td>Personal</td>\n",
       "      <td>NaN</td>\n",
       "      <td>2.0</td>\n",
       "      <td>0.0</td>\n",
       "      <td>0.0</td>\n",
       "      <td>0.0</td>\n",
       "      <td>UNK</td>\n",
       "      <td>Cruise</td>\n",
       "      <td>Probable Cause</td>\n",
       "      <td>NaN</td>\n",
       "    </tr>\n",
       "    <tr>\n",
       "      <th>1</th>\n",
       "      <td>20001218X45447</td>\n",
       "      <td>Accident</td>\n",
       "      <td>LAX94LA336</td>\n",
       "      <td>1962-07-19</td>\n",
       "      <td>BRIDGEPORT, CA</td>\n",
       "      <td>United States</td>\n",
       "      <td>NaN</td>\n",
       "      <td>NaN</td>\n",
       "      <td>NaN</td>\n",
       "      <td>NaN</td>\n",
       "      <td>...</td>\n",
       "      <td>Personal</td>\n",
       "      <td>NaN</td>\n",
       "      <td>4.0</td>\n",
       "      <td>0.0</td>\n",
       "      <td>0.0</td>\n",
       "      <td>0.0</td>\n",
       "      <td>UNK</td>\n",
       "      <td>Unknown</td>\n",
       "      <td>Probable Cause</td>\n",
       "      <td>19-09-1996</td>\n",
       "    </tr>\n",
       "    <tr>\n",
       "      <th>2</th>\n",
       "      <td>20061025X01555</td>\n",
       "      <td>Accident</td>\n",
       "      <td>NYC07LA005</td>\n",
       "      <td>1974-08-30</td>\n",
       "      <td>Saltville, VA</td>\n",
       "      <td>United States</td>\n",
       "      <td>36.922223</td>\n",
       "      <td>-81.878056</td>\n",
       "      <td>NaN</td>\n",
       "      <td>NaN</td>\n",
       "      <td>...</td>\n",
       "      <td>Personal</td>\n",
       "      <td>NaN</td>\n",
       "      <td>3.0</td>\n",
       "      <td>NaN</td>\n",
       "      <td>NaN</td>\n",
       "      <td>NaN</td>\n",
       "      <td>IMC</td>\n",
       "      <td>Cruise</td>\n",
       "      <td>Probable Cause</td>\n",
       "      <td>26-02-2007</td>\n",
       "    </tr>\n",
       "    <tr>\n",
       "      <th>3</th>\n",
       "      <td>20001218X45448</td>\n",
       "      <td>Accident</td>\n",
       "      <td>LAX96LA321</td>\n",
       "      <td>1977-06-19</td>\n",
       "      <td>EUREKA, CA</td>\n",
       "      <td>United States</td>\n",
       "      <td>NaN</td>\n",
       "      <td>NaN</td>\n",
       "      <td>NaN</td>\n",
       "      <td>NaN</td>\n",
       "      <td>...</td>\n",
       "      <td>Personal</td>\n",
       "      <td>NaN</td>\n",
       "      <td>2.0</td>\n",
       "      <td>0.0</td>\n",
       "      <td>0.0</td>\n",
       "      <td>0.0</td>\n",
       "      <td>IMC</td>\n",
       "      <td>Cruise</td>\n",
       "      <td>Probable Cause</td>\n",
       "      <td>12-09-2000</td>\n",
       "    </tr>\n",
       "    <tr>\n",
       "      <th>4</th>\n",
       "      <td>20041105X01764</td>\n",
       "      <td>Accident</td>\n",
       "      <td>CHI79FA064</td>\n",
       "      <td>1979-08-02</td>\n",
       "      <td>Canton, OH</td>\n",
       "      <td>United States</td>\n",
       "      <td>NaN</td>\n",
       "      <td>NaN</td>\n",
       "      <td>NaN</td>\n",
       "      <td>NaN</td>\n",
       "      <td>...</td>\n",
       "      <td>Personal</td>\n",
       "      <td>NaN</td>\n",
       "      <td>1.0</td>\n",
       "      <td>2.0</td>\n",
       "      <td>NaN</td>\n",
       "      <td>0.0</td>\n",
       "      <td>VMC</td>\n",
       "      <td>Approach</td>\n",
       "      <td>Probable Cause</td>\n",
       "      <td>16-04-1980</td>\n",
       "    </tr>\n",
       "    <tr>\n",
       "      <th>5</th>\n",
       "      <td>20170710X52551</td>\n",
       "      <td>Accident</td>\n",
       "      <td>NYC79AA106</td>\n",
       "      <td>1979-09-17</td>\n",
       "      <td>BOSTON, MA</td>\n",
       "      <td>United States</td>\n",
       "      <td>42.445277</td>\n",
       "      <td>-70.758333</td>\n",
       "      <td>NaN</td>\n",
       "      <td>NaN</td>\n",
       "      <td>...</td>\n",
       "      <td>NaN</td>\n",
       "      <td>Air Canada</td>\n",
       "      <td>NaN</td>\n",
       "      <td>NaN</td>\n",
       "      <td>1.0</td>\n",
       "      <td>44.0</td>\n",
       "      <td>VMC</td>\n",
       "      <td>Climb</td>\n",
       "      <td>Probable Cause</td>\n",
       "      <td>19-09-2017</td>\n",
       "    </tr>\n",
       "    <tr>\n",
       "      <th>6</th>\n",
       "      <td>20001218X45446</td>\n",
       "      <td>Accident</td>\n",
       "      <td>CHI81LA106</td>\n",
       "      <td>1981-08-01</td>\n",
       "      <td>COTTON, MN</td>\n",
       "      <td>United States</td>\n",
       "      <td>NaN</td>\n",
       "      <td>NaN</td>\n",
       "      <td>NaN</td>\n",
       "      <td>NaN</td>\n",
       "      <td>...</td>\n",
       "      <td>Personal</td>\n",
       "      <td>NaN</td>\n",
       "      <td>4.0</td>\n",
       "      <td>0.0</td>\n",
       "      <td>0.0</td>\n",
       "      <td>0.0</td>\n",
       "      <td>IMC</td>\n",
       "      <td>Unknown</td>\n",
       "      <td>Probable Cause</td>\n",
       "      <td>06-11-2001</td>\n",
       "    </tr>\n",
       "    <tr>\n",
       "      <th>7</th>\n",
       "      <td>20020909X01562</td>\n",
       "      <td>Accident</td>\n",
       "      <td>SEA82DA022</td>\n",
       "      <td>1982-01-01</td>\n",
       "      <td>PULLMAN, WA</td>\n",
       "      <td>United States</td>\n",
       "      <td>NaN</td>\n",
       "      <td>NaN</td>\n",
       "      <td>NaN</td>\n",
       "      <td>BLACKBURN AG STRIP</td>\n",
       "      <td>...</td>\n",
       "      <td>Personal</td>\n",
       "      <td>NaN</td>\n",
       "      <td>0.0</td>\n",
       "      <td>0.0</td>\n",
       "      <td>0.0</td>\n",
       "      <td>2.0</td>\n",
       "      <td>VMC</td>\n",
       "      <td>Takeoff</td>\n",
       "      <td>Probable Cause</td>\n",
       "      <td>01-01-1982</td>\n",
       "    </tr>\n",
       "    <tr>\n",
       "      <th>8</th>\n",
       "      <td>20020909X01561</td>\n",
       "      <td>Accident</td>\n",
       "      <td>NYC82DA015</td>\n",
       "      <td>1982-01-01</td>\n",
       "      <td>EAST HANOVER, NJ</td>\n",
       "      <td>United States</td>\n",
       "      <td>NaN</td>\n",
       "      <td>NaN</td>\n",
       "      <td>N58</td>\n",
       "      <td>HANOVER</td>\n",
       "      <td>...</td>\n",
       "      <td>Business</td>\n",
       "      <td>NaN</td>\n",
       "      <td>0.0</td>\n",
       "      <td>0.0</td>\n",
       "      <td>0.0</td>\n",
       "      <td>2.0</td>\n",
       "      <td>IMC</td>\n",
       "      <td>Landing</td>\n",
       "      <td>Probable Cause</td>\n",
       "      <td>01-01-1982</td>\n",
       "    </tr>\n",
       "    <tr>\n",
       "      <th>9</th>\n",
       "      <td>20020909X01560</td>\n",
       "      <td>Accident</td>\n",
       "      <td>MIA82DA029</td>\n",
       "      <td>1982-01-01</td>\n",
       "      <td>JACKSONVILLE, FL</td>\n",
       "      <td>United States</td>\n",
       "      <td>NaN</td>\n",
       "      <td>NaN</td>\n",
       "      <td>JAX</td>\n",
       "      <td>JACKSONVILLE INTL</td>\n",
       "      <td>...</td>\n",
       "      <td>Personal</td>\n",
       "      <td>NaN</td>\n",
       "      <td>0.0</td>\n",
       "      <td>0.0</td>\n",
       "      <td>3.0</td>\n",
       "      <td>0.0</td>\n",
       "      <td>IMC</td>\n",
       "      <td>Cruise</td>\n",
       "      <td>Probable Cause</td>\n",
       "      <td>01-01-1982</td>\n",
       "    </tr>\n",
       "  </tbody>\n",
       "</table>\n",
       "<p>10 rows × 31 columns</p>\n",
       "</div>"
      ],
      "text/plain": [
       "         Event.Id Investigation.Type Accident.Number  Event.Date  \\\n",
       "0  20001218X45444           Accident      SEA87LA080  1948-10-24   \n",
       "1  20001218X45447           Accident      LAX94LA336  1962-07-19   \n",
       "2  20061025X01555           Accident      NYC07LA005  1974-08-30   \n",
       "3  20001218X45448           Accident      LAX96LA321  1977-06-19   \n",
       "4  20041105X01764           Accident      CHI79FA064  1979-08-02   \n",
       "5  20170710X52551           Accident      NYC79AA106  1979-09-17   \n",
       "6  20001218X45446           Accident      CHI81LA106  1981-08-01   \n",
       "7  20020909X01562           Accident      SEA82DA022  1982-01-01   \n",
       "8  20020909X01561           Accident      NYC82DA015  1982-01-01   \n",
       "9  20020909X01560           Accident      MIA82DA029  1982-01-01   \n",
       "\n",
       "           Location        Country   Latitude  Longitude Airport.Code  \\\n",
       "0   MOOSE CREEK, ID  United States        NaN        NaN          NaN   \n",
       "1    BRIDGEPORT, CA  United States        NaN        NaN          NaN   \n",
       "2     Saltville, VA  United States  36.922223 -81.878056          NaN   \n",
       "3        EUREKA, CA  United States        NaN        NaN          NaN   \n",
       "4        Canton, OH  United States        NaN        NaN          NaN   \n",
       "5        BOSTON, MA  United States  42.445277 -70.758333          NaN   \n",
       "6        COTTON, MN  United States        NaN        NaN          NaN   \n",
       "7       PULLMAN, WA  United States        NaN        NaN          NaN   \n",
       "8  EAST HANOVER, NJ  United States        NaN        NaN          N58   \n",
       "9  JACKSONVILLE, FL  United States        NaN        NaN          JAX   \n",
       "\n",
       "         Airport.Name  ... Purpose.of.flight Air.carrier Total.Fatal.Injuries  \\\n",
       "0                 NaN  ...          Personal         NaN                  2.0   \n",
       "1                 NaN  ...          Personal         NaN                  4.0   \n",
       "2                 NaN  ...          Personal         NaN                  3.0   \n",
       "3                 NaN  ...          Personal         NaN                  2.0   \n",
       "4                 NaN  ...          Personal         NaN                  1.0   \n",
       "5                 NaN  ...               NaN  Air Canada                  NaN   \n",
       "6                 NaN  ...          Personal         NaN                  4.0   \n",
       "7  BLACKBURN AG STRIP  ...          Personal         NaN                  0.0   \n",
       "8             HANOVER  ...          Business         NaN                  0.0   \n",
       "9   JACKSONVILLE INTL  ...          Personal         NaN                  0.0   \n",
       "\n",
       "  Total.Serious.Injuries Total.Minor.Injuries Total.Uninjured  \\\n",
       "0                    0.0                  0.0             0.0   \n",
       "1                    0.0                  0.0             0.0   \n",
       "2                    NaN                  NaN             NaN   \n",
       "3                    0.0                  0.0             0.0   \n",
       "4                    2.0                  NaN             0.0   \n",
       "5                    NaN                  1.0            44.0   \n",
       "6                    0.0                  0.0             0.0   \n",
       "7                    0.0                  0.0             2.0   \n",
       "8                    0.0                  0.0             2.0   \n",
       "9                    0.0                  3.0             0.0   \n",
       "\n",
       "  Weather.Condition  Broad.phase.of.flight   Report.Status Publication.Date  \n",
       "0               UNK                 Cruise  Probable Cause              NaN  \n",
       "1               UNK                Unknown  Probable Cause       19-09-1996  \n",
       "2               IMC                 Cruise  Probable Cause       26-02-2007  \n",
       "3               IMC                 Cruise  Probable Cause       12-09-2000  \n",
       "4               VMC               Approach  Probable Cause       16-04-1980  \n",
       "5               VMC                  Climb  Probable Cause       19-09-2017  \n",
       "6               IMC                Unknown  Probable Cause       06-11-2001  \n",
       "7               VMC                Takeoff  Probable Cause       01-01-1982  \n",
       "8               IMC                Landing  Probable Cause       01-01-1982  \n",
       "9               IMC                 Cruise  Probable Cause       01-01-1982  \n",
       "\n",
       "[10 rows x 31 columns]"
      ]
     },
     "execution_count": 107,
     "metadata": {},
     "output_type": "execute_result"
    }
   ],
   "source": [
    "#This can be used to view a specific number of rows.\n",
    "#The number of rows to be viewed is written inside the parentheses.\n",
    "df_aviation.head(10)#to view the first 10 rows"
   ]
  },
  {
   "cell_type": "markdown",
   "metadata": {},
   "source": [
    "We can also view the last few rows using .tail() function to view the last 5 rows.\n",
    "you can also specify the number of rows that you want to view."
   ]
  },
  {
   "cell_type": "code",
   "execution_count": 108,
   "metadata": {},
   "outputs": [
    {
     "data": {
      "text/html": [
       "<div>\n",
       "<style scoped>\n",
       "    .dataframe tbody tr th:only-of-type {\n",
       "        vertical-align: middle;\n",
       "    }\n",
       "\n",
       "    .dataframe tbody tr th {\n",
       "        vertical-align: top;\n",
       "    }\n",
       "\n",
       "    .dataframe thead th {\n",
       "        text-align: right;\n",
       "    }\n",
       "</style>\n",
       "<table border=\"1\" class=\"dataframe\">\n",
       "  <thead>\n",
       "    <tr style=\"text-align: right;\">\n",
       "      <th></th>\n",
       "      <th>Event.Id</th>\n",
       "      <th>Investigation.Type</th>\n",
       "      <th>Accident.Number</th>\n",
       "      <th>Event.Date</th>\n",
       "      <th>Location</th>\n",
       "      <th>Country</th>\n",
       "      <th>Latitude</th>\n",
       "      <th>Longitude</th>\n",
       "      <th>Airport.Code</th>\n",
       "      <th>Airport.Name</th>\n",
       "      <th>...</th>\n",
       "      <th>Purpose.of.flight</th>\n",
       "      <th>Air.carrier</th>\n",
       "      <th>Total.Fatal.Injuries</th>\n",
       "      <th>Total.Serious.Injuries</th>\n",
       "      <th>Total.Minor.Injuries</th>\n",
       "      <th>Total.Uninjured</th>\n",
       "      <th>Weather.Condition</th>\n",
       "      <th>Broad.phase.of.flight</th>\n",
       "      <th>Report.Status</th>\n",
       "      <th>Publication.Date</th>\n",
       "    </tr>\n",
       "  </thead>\n",
       "  <tbody>\n",
       "    <tr>\n",
       "      <th>88884</th>\n",
       "      <td>20221227106491</td>\n",
       "      <td>Accident</td>\n",
       "      <td>ERA23LA093</td>\n",
       "      <td>2022-12-26</td>\n",
       "      <td>Annapolis, MD</td>\n",
       "      <td>United States</td>\n",
       "      <td>NaN</td>\n",
       "      <td>NaN</td>\n",
       "      <td>NaN</td>\n",
       "      <td>NaN</td>\n",
       "      <td>...</td>\n",
       "      <td>Personal</td>\n",
       "      <td>NaN</td>\n",
       "      <td>0.0</td>\n",
       "      <td>1.0</td>\n",
       "      <td>0.0</td>\n",
       "      <td>0.0</td>\n",
       "      <td>NaN</td>\n",
       "      <td>NaN</td>\n",
       "      <td>NaN</td>\n",
       "      <td>29-12-2022</td>\n",
       "    </tr>\n",
       "    <tr>\n",
       "      <th>88885</th>\n",
       "      <td>20221227106494</td>\n",
       "      <td>Accident</td>\n",
       "      <td>ERA23LA095</td>\n",
       "      <td>2022-12-26</td>\n",
       "      <td>Hampton, NH</td>\n",
       "      <td>United States</td>\n",
       "      <td>NaN</td>\n",
       "      <td>NaN</td>\n",
       "      <td>NaN</td>\n",
       "      <td>NaN</td>\n",
       "      <td>...</td>\n",
       "      <td>NaN</td>\n",
       "      <td>NaN</td>\n",
       "      <td>0.0</td>\n",
       "      <td>0.0</td>\n",
       "      <td>0.0</td>\n",
       "      <td>0.0</td>\n",
       "      <td>NaN</td>\n",
       "      <td>NaN</td>\n",
       "      <td>NaN</td>\n",
       "      <td>NaN</td>\n",
       "    </tr>\n",
       "    <tr>\n",
       "      <th>88886</th>\n",
       "      <td>20221227106497</td>\n",
       "      <td>Accident</td>\n",
       "      <td>WPR23LA075</td>\n",
       "      <td>2022-12-26</td>\n",
       "      <td>Payson, AZ</td>\n",
       "      <td>United States</td>\n",
       "      <td>341525N</td>\n",
       "      <td>1112021W</td>\n",
       "      <td>PAN</td>\n",
       "      <td>PAYSON</td>\n",
       "      <td>...</td>\n",
       "      <td>Personal</td>\n",
       "      <td>NaN</td>\n",
       "      <td>0.0</td>\n",
       "      <td>0.0</td>\n",
       "      <td>0.0</td>\n",
       "      <td>1.0</td>\n",
       "      <td>VMC</td>\n",
       "      <td>NaN</td>\n",
       "      <td>NaN</td>\n",
       "      <td>27-12-2022</td>\n",
       "    </tr>\n",
       "    <tr>\n",
       "      <th>88887</th>\n",
       "      <td>20221227106498</td>\n",
       "      <td>Accident</td>\n",
       "      <td>WPR23LA076</td>\n",
       "      <td>2022-12-26</td>\n",
       "      <td>Morgan, UT</td>\n",
       "      <td>United States</td>\n",
       "      <td>NaN</td>\n",
       "      <td>NaN</td>\n",
       "      <td>NaN</td>\n",
       "      <td>NaN</td>\n",
       "      <td>...</td>\n",
       "      <td>Personal</td>\n",
       "      <td>MC CESSNA 210N LLC</td>\n",
       "      <td>0.0</td>\n",
       "      <td>0.0</td>\n",
       "      <td>0.0</td>\n",
       "      <td>0.0</td>\n",
       "      <td>NaN</td>\n",
       "      <td>NaN</td>\n",
       "      <td>NaN</td>\n",
       "      <td>NaN</td>\n",
       "    </tr>\n",
       "    <tr>\n",
       "      <th>88888</th>\n",
       "      <td>20221230106513</td>\n",
       "      <td>Accident</td>\n",
       "      <td>ERA23LA097</td>\n",
       "      <td>2022-12-29</td>\n",
       "      <td>Athens, GA</td>\n",
       "      <td>United States</td>\n",
       "      <td>NaN</td>\n",
       "      <td>NaN</td>\n",
       "      <td>NaN</td>\n",
       "      <td>NaN</td>\n",
       "      <td>...</td>\n",
       "      <td>Personal</td>\n",
       "      <td>NaN</td>\n",
       "      <td>0.0</td>\n",
       "      <td>1.0</td>\n",
       "      <td>0.0</td>\n",
       "      <td>1.0</td>\n",
       "      <td>NaN</td>\n",
       "      <td>NaN</td>\n",
       "      <td>NaN</td>\n",
       "      <td>30-12-2022</td>\n",
       "    </tr>\n",
       "  </tbody>\n",
       "</table>\n",
       "<p>5 rows × 31 columns</p>\n",
       "</div>"
      ],
      "text/plain": [
       "             Event.Id Investigation.Type Accident.Number  Event.Date  \\\n",
       "88884  20221227106491           Accident      ERA23LA093  2022-12-26   \n",
       "88885  20221227106494           Accident      ERA23LA095  2022-12-26   \n",
       "88886  20221227106497           Accident      WPR23LA075  2022-12-26   \n",
       "88887  20221227106498           Accident      WPR23LA076  2022-12-26   \n",
       "88888  20221230106513           Accident      ERA23LA097  2022-12-29   \n",
       "\n",
       "            Location        Country Latitude Longitude Airport.Code  \\\n",
       "88884  Annapolis, MD  United States      NaN       NaN          NaN   \n",
       "88885    Hampton, NH  United States      NaN       NaN          NaN   \n",
       "88886     Payson, AZ  United States  341525N  1112021W          PAN   \n",
       "88887     Morgan, UT  United States      NaN       NaN          NaN   \n",
       "88888     Athens, GA  United States      NaN       NaN          NaN   \n",
       "\n",
       "      Airport.Name  ... Purpose.of.flight         Air.carrier  \\\n",
       "88884          NaN  ...          Personal                 NaN   \n",
       "88885          NaN  ...               NaN                 NaN   \n",
       "88886       PAYSON  ...          Personal                 NaN   \n",
       "88887          NaN  ...          Personal  MC CESSNA 210N LLC   \n",
       "88888          NaN  ...          Personal                 NaN   \n",
       "\n",
       "      Total.Fatal.Injuries Total.Serious.Injuries Total.Minor.Injuries  \\\n",
       "88884                  0.0                    1.0                  0.0   \n",
       "88885                  0.0                    0.0                  0.0   \n",
       "88886                  0.0                    0.0                  0.0   \n",
       "88887                  0.0                    0.0                  0.0   \n",
       "88888                  0.0                    1.0                  0.0   \n",
       "\n",
       "      Total.Uninjured Weather.Condition  Broad.phase.of.flight Report.Status  \\\n",
       "88884             0.0               NaN                    NaN           NaN   \n",
       "88885             0.0               NaN                    NaN           NaN   \n",
       "88886             1.0               VMC                    NaN           NaN   \n",
       "88887             0.0               NaN                    NaN           NaN   \n",
       "88888             1.0               NaN                    NaN           NaN   \n",
       "\n",
       "      Publication.Date  \n",
       "88884       29-12-2022  \n",
       "88885              NaN  \n",
       "88886       27-12-2022  \n",
       "88887              NaN  \n",
       "88888       30-12-2022  \n",
       "\n",
       "[5 rows x 31 columns]"
      ]
     },
     "execution_count": 108,
     "metadata": {},
     "output_type": "execute_result"
    }
   ],
   "source": [
    "df_aviation.tail()"
   ]
  },
  {
   "cell_type": "markdown",
   "metadata": {},
   "source": [
    "Now, we want to get information about the Dataframe."
   ]
  },
  {
   "cell_type": "code",
   "execution_count": 109,
   "metadata": {},
   "outputs": [
    {
     "name": "stdout",
     "output_type": "stream",
     "text": [
      "<class 'pandas.core.frame.DataFrame'>\n",
      "RangeIndex: 88889 entries, 0 to 88888\n",
      "Data columns (total 31 columns):\n",
      " #   Column                  Non-Null Count  Dtype  \n",
      "---  ------                  --------------  -----  \n",
      " 0   Event.Id                88889 non-null  object \n",
      " 1   Investigation.Type      88889 non-null  object \n",
      " 2   Accident.Number         88889 non-null  object \n",
      " 3   Event.Date              88889 non-null  object \n",
      " 4   Location                88837 non-null  object \n",
      " 5   Country                 88663 non-null  object \n",
      " 6   Latitude                34382 non-null  object \n",
      " 7   Longitude               34373 non-null  object \n",
      " 8   Airport.Code            50132 non-null  object \n",
      " 9   Airport.Name            52704 non-null  object \n",
      " 10  Injury.Severity         87889 non-null  object \n",
      " 11  Aircraft.damage         85695 non-null  object \n",
      " 12  Aircraft.Category       32287 non-null  object \n",
      " 13  Registration.Number     87507 non-null  object \n",
      " 14  Make                    88826 non-null  object \n",
      " 15  Model                   88797 non-null  object \n",
      " 16  Amateur.Built           88787 non-null  object \n",
      " 17  Number.of.Engines       82805 non-null  float64\n",
      " 18  Engine.Type             81793 non-null  object \n",
      " 19  FAR.Description         32023 non-null  object \n",
      " 20  Schedule                12582 non-null  object \n",
      " 21  Purpose.of.flight       82697 non-null  object \n",
      " 22  Air.carrier             16648 non-null  object \n",
      " 23  Total.Fatal.Injuries    77488 non-null  float64\n",
      " 24  Total.Serious.Injuries  76379 non-null  float64\n",
      " 25  Total.Minor.Injuries    76956 non-null  float64\n",
      " 26  Total.Uninjured         82977 non-null  float64\n",
      " 27  Weather.Condition       84397 non-null  object \n",
      " 28  Broad.phase.of.flight   61724 non-null  object \n",
      " 29  Report.Status           82505 non-null  object \n",
      " 30  Publication.Date        75118 non-null  object \n",
      "dtypes: float64(5), object(26)\n",
      "memory usage: 21.0+ MB\n"
     ]
    }
   ],
   "source": [
    "df_aviation.info()"
   ]
  },
  {
   "cell_type": "markdown",
   "metadata": {},
   "source": [
    "The information above is a breakdown of the data in the DataFrame.\n",
    "##### DATAFRAME STRUCTURE.\n",
    "The DataFrame has 88889 rows and 31 columns\n",
    "There are two types of data used. Float64 and object.\n",
    "Float64, which has been used on 5 columns, is used for numerical data\n",
    "Object, which has been used on 26 columns, is used for categorical data.\n",
    "\n",
    "In the column descriptionds and explanations, we have:\n",
    "Event.Id: A unique identifier for each accident.\n",
    "Investigation.Type: The type of investigation conducted (e.g., accident, incident).\n",
    "Accident.Number: A number assigned to the accident.\n",
    "Event.Date: The date of the accident.\n",
    "Location: The location of the accident.\n",
    "Country: The country where the accident occurred.\n",
    "Latitude and Longitude: The geographic coordinates of the accident.\n",
    "Airport.Code and Airport.Name: The airport involved in the accident.\n",
    "Injury.Severity: The severity of injuries (e.g., Fatal, Serious, Minor).\n",
    "Aircraft.damage: The extent of damage to the aircraft.\n",
    "Aircraft.Category: The category of the aircraft (e.g., airplane, helicopter).\n",
    "Registration.Number: The registration number of the aircraft.\n",
    "Make and Model: The manufacturer and model of the aircraft.\n",
    "Amateur.Built: Whether the aircraft was built by an amateur.\n",
    "Number.of.Engines: The number of engines on the aircraft.\n",
    "Engine.Type: The type of engines on the aircraft.\n",
    "FAR.Description: A description of the Federal Aviation Regulations (FAR) involved.\n",
    "Schedule: Whether the flight was scheduled or unscheduled.\n",
    "Purpose.of.flight: The purpose of the flight (e.g., commercial, private).\n",
    "Air.carrier: The airline operating the flight.\n",
    "Total.Fatal.Injuries, Total.Serious.Injuries, Total.Minor.Injuries, Total.Uninjured: The number of injuries of different severities and the number of people who were not injured.\n",
    "Weather.Condition: The weather conditions at the time of the accident.\n",
    "Broad.phase.of.flight: The phase of flight (e.g., takeoff, landing, cruise).\n",
    "Report.Status: The status of the investigation report.\n",
    "Publication.Date: The date the report was published.\n",
    "\n",
    "The info above also provides us with the missing values.\n",
    "Some columns have missing values, indicated by the \"Non-Null Count\" being less than the total number of rows. For example, \"Location\" has 52 missing values"
   ]
  },
  {
   "cell_type": "code",
   "execution_count": 110,
   "metadata": {},
   "outputs": [
    {
     "data": {
      "text/plain": [
       "Index(['Event.Id', 'Investigation.Type', 'Accident.Number', 'Event.Date',\n",
       "       'Location', 'Country', 'Latitude', 'Longitude', 'Airport.Code',\n",
       "       'Airport.Name', 'Injury.Severity', 'Aircraft.damage',\n",
       "       'Aircraft.Category', 'Registration.Number', 'Make', 'Model',\n",
       "       'Amateur.Built', 'Number.of.Engines', 'Engine.Type', 'FAR.Description',\n",
       "       'Schedule', 'Purpose.of.flight', 'Air.carrier', 'Total.Fatal.Injuries',\n",
       "       'Total.Serious.Injuries', 'Total.Minor.Injuries', 'Total.Uninjured',\n",
       "       'Weather.Condition', 'Broad.phase.of.flight', 'Report.Status',\n",
       "       'Publication.Date'],\n",
       "      dtype='object')"
      ]
     },
     "execution_count": 110,
     "metadata": {},
     "output_type": "execute_result"
    }
   ],
   "source": [
    "#Now in order to view only the column names, we use the .columns function.\n",
    "df_aviation.columns"
   ]
  },
  {
   "cell_type": "markdown",
   "metadata": {},
   "source": [
    "# DATA CLEANING"
   ]
  },
  {
   "cell_type": "code",
   "execution_count": 111,
   "metadata": {},
   "outputs": [
    {
     "data": {
      "text/plain": [
       "<bound method DataFrame.sum of         Make  Model  Injury.Severity\n",
       "0      False  False            False\n",
       "1      False  False            False\n",
       "2      False  False            False\n",
       "3      False  False            False\n",
       "4      False  False            False\n",
       "...      ...    ...              ...\n",
       "88884  False  False            False\n",
       "88885  False  False             True\n",
       "88886  False  False            False\n",
       "88887  False  False             True\n",
       "88888  False  False            False\n",
       "\n",
       "[88889 rows x 3 columns]>"
      ]
     },
     "execution_count": 111,
     "metadata": {},
     "output_type": "execute_result"
    }
   ],
   "source": [
    "#HANDLING MISSING VALUES.\n",
    "df_aviation[['Make', 'Model', 'Injury.Severity']].isnull().sum"
   ]
  },
  {
   "cell_type": "code",
   "execution_count": 112,
   "metadata": {},
   "outputs": [],
   "source": [
    "#here, we are filling the missing values in injury related columns with 0\n",
    "injury_columns = ['Total.Fatal.Injuries', 'Total.Serious.Injuries', 'Total.Minor.Injuries', 'Total.Uninjured']\n",
    "df_aviation[injury_columns] = df_aviation[injury_columns].fillna(0)"
   ]
  },
  {
   "cell_type": "markdown",
   "metadata": {},
   "source": [
    "Now, we're going to check for duplicate values in the 'Event Id' column since it is the primary key of the dataset, and all accident events that happened contain a unique Event Id. So, if an ID is written twice, it's just a repetition of the same Event."
   ]
  },
  {
   "cell_type": "code",
   "execution_count": 113,
   "metadata": {},
   "outputs": [
    {
     "name": "stdout",
     "output_type": "stream",
     "text": [
      "             Event.Id Investigation.Type Accident.Number  Event.Date  \\\n",
      "118    20020917X01908           Accident     DCA82AA012A  1982-01-19   \n",
      "159    20020917X02400           Accident     MIA82FA038A  1982-01-23   \n",
      "160    20020917X02259           Accident     LAX82FA049B  1982-01-23   \n",
      "245    20020917X02585           Accident     SEA82DA028B  1982-02-06   \n",
      "248    20020917X02173           Accident     LAX82DA065A  1982-02-06   \n",
      "...               ...                ...             ...         ...   \n",
      "88593  20220929106019           Accident      DCA22WA214  2022-09-28   \n",
      "88777  20221112106276           Accident      CEN23MA034  2022-11-12   \n",
      "88796  20221121106336           Accident      WPR23LA041  2022-11-18   \n",
      "88798  20221122106340           Incident      DCA23WA071  2022-11-18   \n",
      "88814  20221123106354           Accident      WPR23LA045  2022-11-22   \n",
      "\n",
      "                 Location        Country Latitude Longitude Airport.Code  \\\n",
      "118          ROCKPORT, TX  United States      NaN       NaN          RKP   \n",
      "159    NEWPORT RICHEY, FL  United States      NaN       NaN          NaN   \n",
      "160       VICTORVILLE, CA  United States      NaN       NaN          NaN   \n",
      "245           MEDFORD, OR  United States      NaN       NaN          MFR   \n",
      "248          SAN JOSE, CA  United States      NaN       NaN          RHV   \n",
      "...                   ...            ...      ...       ...          ...   \n",
      "88593            London,   Great Britain  512820N  0002717E         EGLL   \n",
      "88777          Dallas, TX  United States  324026N  0965146W          RBD   \n",
      "88796       Las Vegas, NV  United States  361239N  1151140W          VGT   \n",
      "88798         Marrakech,         Morocco      NaN       NaN          NaN   \n",
      "88814       San Diego, CA  United States  323414N  1165825W          SDM   \n",
      "\n",
      "                        Airport.Name  ...          Purpose.of.flight  \\\n",
      "118           ARANSAS COUNTY AIRPORT  ...        Executive/corporate   \n",
      "159                              NaN  ...                   Personal   \n",
      "160                              NaN  ...                   Personal   \n",
      "245           MEDFORD-JACKSON COUNTY  ...                   Personal   \n",
      "248                    RIED HILLVIEW  ...                   Personal   \n",
      "...                              ...  ...                        ...   \n",
      "88593        London Heathrow Airport  ...                        NaN   \n",
      "88777               Dallas Executive  ...                       ASHO   \n",
      "88796                NORTH LAS VEGAS  ...              Instructional   \n",
      "88798                            NaN  ...                        NaN   \n",
      "88814  Brown Field Municipal Airport  ...  Public Aircraft - Federal   \n",
      "\n",
      "                   Air.carrier Total.Fatal.Injuries Total.Serious.Injuries  \\\n",
      "118                        NaN                  3.0                    0.0   \n",
      "159                        NaN                  0.0                    0.0   \n",
      "160                        NaN                  2.0                    0.0   \n",
      "245                        NaN                  0.0                    0.0   \n",
      "248                        NaN                  0.0                    0.0   \n",
      "...                        ...                  ...                    ...   \n",
      "88593                      NaN                  0.0                    0.0   \n",
      "88777  Commemorative Air Force                  6.0                    0.0   \n",
      "88796       702 HELICOPTER INC                  0.0                    0.0   \n",
      "88798      Valair Private Jets                  0.0                    0.0   \n",
      "88814                U.S. Navy                  0.0                    0.0   \n",
      "\n",
      "      Total.Minor.Injuries Total.Uninjured Weather.Condition  \\\n",
      "118                    0.0             0.0               IMC   \n",
      "159                    0.0             3.0               VMC   \n",
      "160                    4.0             0.0               VMC   \n",
      "245                    0.0             3.0               VMC   \n",
      "248                    0.0             3.0               VMC   \n",
      "...                    ...             ...               ...   \n",
      "88593                  0.0             2.0               NaN   \n",
      "88777                  0.0             0.0               VMC   \n",
      "88796                  0.0             3.0               VMC   \n",
      "88798                  0.0             0.0               NaN   \n",
      "88814                  0.0             4.0               VMC   \n",
      "\n",
      "       Broad.phase.of.flight   Report.Status Publication.Date  \n",
      "118                 Approach  Probable Cause       19-01-1983  \n",
      "159                 Approach  Probable Cause       23-01-1983  \n",
      "160                   Cruise  Probable Cause       23-01-1983  \n",
      "245                     Taxi  Probable Cause       06-02-1983  \n",
      "248                     Taxi  Probable Cause       06-02-1983  \n",
      "...                      ...             ...              ...  \n",
      "88593                    NaN             NaN              NaN  \n",
      "88777                    NaN             NaN       30-11-2022  \n",
      "88796                    NaN             NaN       07-12-2022  \n",
      "88798                    NaN             NaN              NaN  \n",
      "88814                    NaN             NaN       22-12-2022  \n",
      "\n",
      "[938 rows x 31 columns]\n"
     ]
    }
   ],
   "source": [
    "EventId_Duplicates= df_aviation[df_aviation.duplicated(subset=['Event.Id'])]\n",
    "\n",
    "print(EventId_Duplicates)# The print function is used to display the "
   ]
  },
  {
   "cell_type": "code",
   "execution_count": 114,
   "metadata": {},
   "outputs": [
    {
     "name": "stdout",
     "output_type": "stream",
     "text": [
      "Empty DataFrame\n",
      "Columns: [Event.Id, Investigation.Type, Accident.Number, Event.Date, Location, Country, Latitude, Longitude, Airport.Code, Airport.Name, Injury.Severity, Aircraft.damage, Aircraft.Category, Registration.Number, Make, Model, Amateur.Built, Number.of.Engines, Engine.Type, FAR.Description, Schedule, Purpose.of.flight, Air.carrier, Total.Fatal.Injuries, Total.Serious.Injuries, Total.Minor.Injuries, Total.Uninjured, Weather.Condition, Broad.phase.of.flight, Report.Status, Publication.Date]\n",
      "Index: []\n",
      "\n",
      "[0 rows x 31 columns]\n"
     ]
    }
   ],
   "source": [
    "#Now, we are going to remove duplicate values from the Event.Id column \n",
    "# so that we have each event occuring only once\n",
    "df_without_duplicates = df_aviation.drop_duplicates(subset=['Event.Id'])\n",
    "\n",
    "#To verify that we have removed the duplicates.\n",
    "print(df_without_duplicates[df_without_duplicates.duplicated(subset=['Event.Id'])])"
   ]
  },
  {
   "cell_type": "markdown",
   "metadata": {},
   "source": [
    "Now we are going to keep only events that have accidents in the investigation type column.\n"
   ]
  },
  {
   "cell_type": "code",
   "execution_count": 115,
   "metadata": {},
   "outputs": [],
   "source": [
    "# Keep only accidents in the analysis\n",
    "df_aviation = df_aviation[df_aviation['Investigation.Type'] == 'Accident']\n"
   ]
  },
  {
   "cell_type": "markdown",
   "metadata": {},
   "source": [
    "After selecting the accidents only, we are going to select the relevant columns that we need for risk analysis"
   ]
  },
  {
   "cell_type": "code",
   "execution_count": 116,
   "metadata": {},
   "outputs": [],
   "source": [
    "# Select relevant columns for risk analysis\n",
    "relevant_columns = [\n",
    "    'Make', 'Model', 'Aircraft.Category', 'Aircraft.damage', 'Total.Fatal.Injuries', \n",
    "    'Total.Serious.Injuries', 'Total.Minor.Injuries', 'Total.Uninjured', \n",
    "    'Weather.Condition', 'Broad.phase.of.flight', 'Event.Date']\n",
    "\n",
    "df_aviation_filtered = df_aviation[relevant_columns]"
   ]
  },
  {
   "cell_type": "markdown",
   "metadata": {},
   "source": [
    "We need to convert the 'Event.Date' to datetime format\n"
   ]
  },
  {
   "cell_type": "code",
   "execution_count": 117,
   "metadata": {},
   "outputs": [],
   "source": [
    "df_aviation_filtered.loc[:,'Event.Date'] = pd.to_datetime(df_aviation_filtered['Event.Date'], errors='coerce')"
   ]
  },
  {
   "cell_type": "code",
   "execution_count": 118,
   "metadata": {},
   "outputs": [
    {
     "name": "stdout",
     "output_type": "stream",
     "text": [
      "0\n"
     ]
    }
   ],
   "source": [
    "print(df_aviation_filtered['Event.Date'].isna().sum())  # This will show how many invalid date entries exist\n"
   ]
  },
  {
   "cell_type": "markdown",
   "metadata": {},
   "source": [
    "The make column has  some names repeated in Upper case. To solve that, we are going to change everything in the make column to lowercase"
   ]
  },
  {
   "cell_type": "code",
   "execution_count": 119,
   "metadata": {},
   "outputs": [],
   "source": [
    "# Convert 'Make' column to lowercase\n",
    "df_aviation_filtered.loc[:,'Make'] = df_aviation_filtered['Make'].str.lower()\n"
   ]
  },
  {
   "cell_type": "markdown",
   "metadata": {},
   "source": [
    "# IDENTIFYING OUTLIERS\n"
   ]
  },
  {
   "cell_type": "code",
   "execution_count": 120,
   "metadata": {},
   "outputs": [
    {
     "name": "stdout",
     "output_type": "stream",
     "text": [
      "Outliers for Total.Fatal.Injuries:\n",
      "Lower Bound: 0.0, Upper Bound: 0.0\n"
     ]
    },
    {
     "name": "stderr",
     "output_type": "stream",
     "text": [
      "C:\\Users\\sarah\\AppData\\Local\\Temp\\ipykernel_9436\\559893266.py:20: UserWarning: Boolean Series key will be reindexed to match DataFrame index.\n",
      "  outliers = df_aviation_filtered[(df_aviation_filtered[column] < lower_bound) | (df_without_duplicates[column] > upper_bound)]\n"
     ]
    },
    {
     "name": "stdout",
     "output_type": "stream",
     "text": [
      "Number of outliers in Total.Fatal.Injuries: 17508\n",
      "\n",
      "Outliers for Total.Serious.Injuries:\n",
      "Lower Bound: 0.0, Upper Bound: 0.0\n"
     ]
    },
    {
     "name": "stderr",
     "output_type": "stream",
     "text": [
      "C:\\Users\\sarah\\AppData\\Local\\Temp\\ipykernel_9436\\559893266.py:20: UserWarning: Boolean Series key will be reindexed to match DataFrame index.\n",
      "  outliers = df_aviation_filtered[(df_aviation_filtered[column] < lower_bound) | (df_without_duplicates[column] > upper_bound)]\n",
      "C:\\Users\\sarah\\AppData\\Local\\Temp\\ipykernel_9436\\559893266.py:20: UserWarning: Boolean Series key will be reindexed to match DataFrame index.\n",
      "  outliers = df_aviation_filtered[(df_aviation_filtered[column] < lower_bound) | (df_without_duplicates[column] > upper_bound)]\n"
     ]
    },
    {
     "name": "stdout",
     "output_type": "stream",
     "text": [
      "Number of outliers in Total.Serious.Injuries: 12937\n",
      "\n",
      "Outliers for Total.Minor.Injuries:\n",
      "Lower Bound: 0.0, Upper Bound: 0.0\n",
      "Number of outliers in Total.Minor.Injuries: 15181\n",
      "\n",
      "Outliers for Total.Uninjured:\n",
      "Lower Bound: -3.0, Upper Bound: 5.0\n",
      "Number of outliers in Total.Uninjured: 2340\n",
      "\n"
     ]
    },
    {
     "name": "stderr",
     "output_type": "stream",
     "text": [
      "C:\\Users\\sarah\\AppData\\Local\\Temp\\ipykernel_9436\\559893266.py:20: UserWarning: Boolean Series key will be reindexed to match DataFrame index.\n",
      "  outliers = df_aviation_filtered[(df_aviation_filtered[column] < lower_bound) | (df_without_duplicates[column] > upper_bound)]\n"
     ]
    }
   ],
   "source": [
    "#ckecking for outliers in fatal injuries, serious injuries, \n",
    "# minor injuries and uninjured by calculating the Interquartile range\n",
    "\n",
    "columns_to_check = ['Total.Fatal.Injuries', 'Total.Serious.Injuries', 'Total.Minor.Injuries', 'Total.Uninjured']\n",
    "\n",
    "# Writing a function to detect and remove outliers using IQR\n",
    "def detect_outliers_iqr(df_aviation_filtered, column):\n",
    "    Q1 = df_aviation_filtered[column].quantile(0.25)\n",
    "    Q3 = df_aviation_filtered[column].quantile(0.75)\n",
    "    IQR = Q3 - Q1\n",
    "    \n",
    "    # Defining the lower and upper bounds\n",
    "    lower_bound = Q1 - 1.5 * IQR\n",
    "    upper_bound = Q3 + 1.5 * IQR\n",
    "    \n",
    "    print(f\"Outliers for {column}:\")\n",
    "    print(f\"Lower Bound: {lower_bound}, Upper Bound: {upper_bound}\")\n",
    "    \n",
    "    # Detecting outliers\n",
    "    outliers = df_aviation_filtered[(df_aviation_filtered[column] < lower_bound) | (df_without_duplicates[column] > upper_bound)]\n",
    "    \n",
    "    return outliers\n",
    "\n",
    "# Creating a loop that will go through each column to detect the outliers\n",
    "for column in columns_to_check:\n",
    "    outliers = detect_outliers_iqr(df_aviation_filtered, column)\n",
    "    print(f\"Number of outliers in {column}: {len(outliers)}\\n\")\n"
   ]
  },
  {
   "cell_type": "code",
   "execution_count": 121,
   "metadata": {},
   "outputs": [],
   "source": [
    "#Capping the outliers using the Interquartile Range\n",
    "def cap_outliers_iqr(df_aviation_filtered, column):\n",
    "    Q1 = df_aviation_filtered[column].quantile(0.25)\n",
    "    Q3 = df_aviation_filtered[column].quantile(0.75)\n",
    "    IQR = Q3 - Q1\n",
    "    \n",
    "    # Define the lower and upper bounds\n",
    "    lower_bound = Q1 - 1.5 * IQR\n",
    "    upper_bound = Q3 + 1.5 * IQR\n",
    "    \n",
    "    # Cap the values at the bounds\n",
    "    df_aviation_filtered[column] = df_aviation_filtered[column].apply(lambda x: lower_bound if x < lower_bound else upper_bound if x > upper_bound else x)\n",
    "    \n",
    "    return df_aviation_filtered"
   ]
  },
  {
   "cell_type": "code",
   "execution_count": 122,
   "metadata": {},
   "outputs": [
    {
     "data": {
      "image/png": "[encoded data removed]",
      "text/plain": [
       "<Figure size 1000x600 with 1 Axes>"
      ]
     },
     "metadata": {},
     "output_type": "display_data"
    }
   ],
   "source": [
    "import seaborn as sns\n",
    "columns_to_plot = ['Total.Fatal.Injuries', 'Total.Serious.Injuries', 'Total.Minor.Injuries', 'Total.Uninjured']\n",
    "\n",
    "# Melt the dataframe into long format for seaborn\n",
    "df_melted = df_aviation_filtered[columns_to_plot].melt(var_name='Injury Type', value_name='Count')\n",
    "\n",
    "# Create a boxplot for all injury-related columns\n",
    "plt.figure(figsize=(10, 6))\n",
    "sns.boxplot(x='Injury Type', y='Count', data=df_melted)\n",
    "\n",
    "# Add a title\n",
    "plt.title('Boxplot of Injury Counts for Different Types of Injuries')\n",
    "plt.show()"
   ]
  },
  {
   "cell_type": "markdown",
   "metadata": {},
   "source": [
    "#### Analysis on Outliers.\n",
    "Observations:\n",
    "\n",
    "##### Total Fatal Injuries: \n",
    "\n",
    "While the median count is relatively low, there are a few extreme outliers on the high end, suggesting that a small number of incidents involving fatal injuries resulted in a significantly higher number of fatalities.\n",
    "\n",
    "##### Total Serious Injuries: \n",
    "\n",
    "Similar to fatal injuries, there are a few outliers on the higher end, indicating that some incidents with serious injuries had unusually high counts.\n",
    "\n",
    "##### Total Minor Injuries: \n",
    "\n",
    "The distribution appears to be more concentrated, with fewer outliers, suggesting a more consistent pattern of minor injuries.\n",
    "\n",
    "##### Total Uninjured: \n",
    "\n",
    "The distribution is highly skewed to the right, with a large number of outliers on the higher end. This indicates that a significant number of incidents resulted in a much higher number of uninjured individuals than expected."
   ]
  },
  {
   "cell_type": "markdown",
   "metadata": {},
   "source": [
    "# ANALYSIS USING VISUALIZATIONS\n",
    "We are going to plot various visualizations that will help us to analyse the risk analysis."
   ]
  },
  {
   "cell_type": "markdown",
   "metadata": {},
   "source": [
    "## Analysis on the top 10 Aircraft makes involved in Accidents"
   ]
  },
  {
   "cell_type": "code",
   "execution_count": 123,
   "metadata": {},
   "outputs": [
    {
     "name": "stderr",
     "output_type": "stream",
     "text": [
      "C:\\Users\\sarah\\AppData\\Local\\Temp\\ipykernel_9436\\3693716144.py:6: FutureWarning: \n",
      "\n",
      "Passing `palette` without assigning `hue` is deprecated and will be removed in v0.14.0. Assign the `x` variable to `hue` and set `legend=False` for the same effect.\n",
      "\n",
      "  sns.barplot(x=top_makes.index, y=top_makes.values, palette=\"coolwarm\")\n"
     ]
    },
    {
     "data": {
      "image/png": "[encoded data removed]",
      "text/plain": [
       "<Figure size 1000x600 with 1 Axes>"
      ]
     },
     "metadata": {},
     "output_type": "display_data"
    }
   ],
   "source": [
    "#Here, we are going to use seaborn. \n",
    "#we had already imported it in the cell above so we're just going to plot the visualizations.\n",
    "# Visualize the top 10 aircraft makes\n",
    "plt.figure(figsize=(10, 6))\n",
    "top_makes = df_aviation_filtered['Make'].value_counts().nlargest(10)\n",
    "sns.barplot(x=top_makes.index, y=top_makes.values, palette=\"coolwarm\")\n",
    "plt.title('Top 10 Aircraft Makes Involved in Accidents')\n",
    "plt.xlabel('Aircraft Make')\n",
    "plt.ylabel('Number of accidents')\n",
    "plt.show()\n"
   ]
  },
  {
   "cell_type": "markdown",
   "metadata": {},
   "source": [
    "#### Analysis on top 10 makes involved in accidents\n",
    "\n",
    "Key Observations:\n",
    "\n",
    "##### Cessna Dominates:\n",
    "Cessna is by far the most frequently involved aircraft make, with a significantly higher number of accidents compared to the others.\n",
    "\n",
    "##### Piper and Beech Follow:\n",
    "\n",
    "Piper and Beech also have notably high accident counts, ranking second and third respectively.\n",
    "\n",
    "##### Bell and Boeing: \n",
    "\n",
    "Bell and Boeing appear to be involved in a moderate number of accidents.\n",
    "\n",
    "##### Robinson, Grumman, Bellanca, Mooney, and Hughes: \n",
    "\n",
    "These aircraft makes have relatively lower accident counts, forming the lower end of the top 10 list.\n",
    "\n",
    "#### Potential Outcomes:\n",
    "\n",
    "##### Popularity and Production: \n",
    "\n",
    "The high frequency of Cessna, Piper, and Beech accidents might be partially attributed to their popularity and larger production volumes.\n",
    "\n",
    "##### Aircraft Design or Usage: \n",
    "\n",
    "Factors such as aircraft design, intended use (e.g., general aviation, commercial), or operating conditions could also influence accident rates.\n",
    "\n",
    "##### Data Limitations: \n",
    "\n",
    "It's important to note that this analysis is based on the top 10 aircraft makes and doesn't account for less common makes or models."
   ]
  },
  {
   "cell_type": "code",
   "execution_count": 124,
   "metadata": {},
   "outputs": [
    {
     "name": "stdout",
     "output_type": "stream",
     "text": [
      "Make\n",
      "cessna      26793\n",
      "piper       14684\n",
      "beech        5177\n",
      "bell         2662\n",
      "boeing       1362\n",
      "mooney       1311\n",
      "robinson     1219\n",
      "grumman      1158\n",
      "bellanca     1040\n",
      "hughes        925\n",
      "Name: count, dtype: int64\n"
     ]
    }
   ],
   "source": [
    "print(top_makes)"
   ]
  },
  {
   "cell_type": "markdown",
   "metadata": {},
   "source": [
    "## Analysis on accidents that occured during different phases of flight"
   ]
  },
  {
   "cell_type": "code",
   "execution_count": 125,
   "metadata": {},
   "outputs": [
    {
     "name": "stderr",
     "output_type": "stream",
     "text": [
      "C:\\Users\\sarah\\AppData\\Local\\Temp\\ipykernel_9436\\1057979553.py:3: FutureWarning: \n",
      "\n",
      "Passing `palette` without assigning `hue` is deprecated and will be removed in v0.14.0. Assign the `y` variable to `hue` and set `legend=False` for the same effect.\n",
      "\n",
      "  sns.countplot(data=df_aviation_filtered, y='Broad.phase.of.flight', palette=\"coolwarm\", order=df_aviation_filtered['Broad.phase.of.flight'].value_counts().index)\n"
     ]
    },
    {
     "data": {
      "image/png": "[encoded data removed]",
      "text/plain": [
       "<Figure size 1000x600 with 1 Axes>"
      ]
     },
     "metadata": {},
     "output_type": "display_data"
    }
   ],
   "source": [
    "# Accidents during different phases of flight\n",
    "plt.figure(figsize=(10, 6))\n",
    "sns.countplot(data=df_aviation_filtered, y='Broad.phase.of.flight', palette=\"coolwarm\", order=df_aviation_filtered['Broad.phase.of.flight'].value_counts().index)\n",
    "plt.title('Accidents per phaseof flight')\n",
    "plt.xlabel('Number of flights')\n",
    "plt.ylabel('Phase of Flight')\n",
    "plt.show()"
   ]
  },
  {
   "cell_type": "markdown",
   "metadata": {},
   "source": [
    "#### Analysis on Accidents per phase flight\n",
    "\n",
    "Key Observations:\n",
    "\n",
    "##### Landing and Takeoff Dominate: \n",
    "\n",
    "The \"Landing\" and \"Takeoff\" phases clearly have the highest number of accidents, indicating that these critical stages of flight are associated with the most significant risks.\n",
    "\n",
    "##### Cruise and Maneuvering Risks: \n",
    "\n",
    "While lower than landing and takeoff, \"Cruise\" and \"Maneuvering\" also represent notable accident risks.\n",
    "\n",
    "##### Approach and Descent: \n",
    "\n",
    "The \"Approach\" and \"Descent\" phases have relatively moderate accident counts, suggesting that these stages require careful attention to safety.\n",
    "\n",
    "##### Other Phases: \n",
    "\n",
    "The remaining phases, including \"Climb,\" \"Taxi,\" \"Go-around,\" \"Standing,\" \"Unknown,\" and \"Other,\" have significantly lower accident rates.\n",
    "\n",
    "#### Potential Implications:\n",
    "\n",
    "##### Safety Focus: \n",
    "\n",
    "The data highlights the need for continued efforts to improve safety during landing and takeoff, as well as during cruise and maneuvering phases.\n",
    "\n",
    "##### Training and Procedures: \n",
    "\n",
    "Training programs and operational procedures should emphasize safe practices for these critical stages of flight.\n",
    "\n",
    "##### Technology and Equipment: \n",
    "\n",
    "Advancements in technology and equipment can help mitigate risks associated with landing, takeoff, and other high-risk phases.\n",
    "\n",
    "##### Data Analysis: \n",
    "\n",
    "Further analysis of accident data can identify specific factors contributing to risks in different phases of flight, leading to more targeted safety measures."
   ]
  },
  {
   "cell_type": "markdown",
   "metadata": {},
   "source": [
    "## Analysis on accidents that occured due to weather conditions"
   ]
  },
  {
   "cell_type": "code",
   "execution_count": 155,
   "metadata": {},
   "outputs": [
    {
     "name": "stderr",
     "output_type": "stream",
     "text": [
      "C:\\Users\\sarah\\AppData\\Local\\Temp\\ipykernel_9436\\1615744303.py:2: FutureWarning: \n",
      "\n",
      "Passing `palette` without assigning `hue` is deprecated and will be removed in v0.14.0. Assign the `x` variable to `hue` and set `legend=False` for the same effect.\n",
      "\n",
      "  sns.countplot(data= df_aviation_filtered, x='Weather.Condition', palette=\"Set2\")#countplot plots a histogram\n"
     ]
    },
    {
     "data": {
      "image/png": "[encoded data removed]",
      "text/plain": [
       "<Figure size 700x500 with 1 Axes>"
      ]
     },
     "metadata": {},
     "output_type": "display_data"
    }
   ],
   "source": [
    "plt.figure(figsize=(7, 5))\n",
    "sns.countplot(data= df_aviation_filtered, x='Weather.Condition', palette=\"Set2\")#countplot plots a histogram\n",
    "plt.title('Accidents by Weather Condition')\n",
    "plt.xlabel('Weather Condition')\n",
    "plt.ylabel('Number of Accidents')\n",
    "plt.show()"
   ]
  },
  {
   "cell_type": "markdown",
   "metadata": {},
   "source": [
    "#### Analysis on Accidents by weather conditions.\n",
    "\n",
    "Key Observations:\n",
    "\n",
    "##### VMC Dominates: \n",
    "\n",
    "The \"VMC\" (Visual Meteorological Conditions) category has the highest number of accidents by a significant margin, indicating that the majority of accidents occur in clear weather conditions.\n",
    "\n",
    "##### IMC and UNK: \n",
    "\n",
    "The \"IMC\" (Instrument Meteorological Conditions) and \"UNK\" (Unknown) categories have considerably lower accident counts, suggesting that while weather can be a contributing factor, it's not the primary cause in most cases.\n",
    "\n",
    "#### Potential Outcomes/ views:\n",
    "\n",
    "##### Pilot Error: \n",
    "\n",
    "The dominance of VMC accidents might suggest that pilot error is a more significant factor than weather conditions, especially in clear weather when visibility is high.\n",
    "\n",
    "##### Maintenance and Inspection: \n",
    "\n",
    "Ensuring proper maintenance and inspections of aircraft can help prevent accidents, regardless of weather conditions.\n",
    "\n",
    "##### Data Limitations: \n",
    "\n",
    "The \"UNK\" category indicates that the weather conditions for a portion of accidents were not recorded or determined, which could limit our understanding of the role of weather in aviation safety."
   ]
  },
  {
   "cell_type": "markdown",
   "metadata": {},
   "source": [
    "## Analysis based on the severity of the damages on aircraft distribution"
   ]
  },
  {
   "cell_type": "code",
   "execution_count": 127,
   "metadata": {},
   "outputs": [
    {
     "name": "stderr",
     "output_type": "stream",
     "text": [
      "C:\\Users\\sarah\\AppData\\Local\\Temp\\ipykernel_9436\\1463687770.py:3: FutureWarning: \n",
      "\n",
      "Passing `palette` without assigning `hue` is deprecated and will be removed in v0.14.0. Assign the `x` variable to `hue` and set `legend=False` for the same effect.\n",
      "\n",
      "  sns.countplot(data=df_aviation_filtered, x='Aircraft.damage', palette=\"magma\")\n"
     ]
    },
    {
     "data": {
      "image/png": "[encoded data removed]",
      "text/plain": [
       "<Figure size 700x500 with 1 Axes>"
      ]
     },
     "metadata": {},
     "output_type": "display_data"
    }
   ],
   "source": [
    "# Aircraft damage severity distribution\n",
    "plt.figure(figsize=(7, 5))\n",
    "sns.countplot(data=df_aviation_filtered, x='Aircraft.damage', palette=\"magma\")\n",
    "plt.title('Distribution of Aircraft Damage Severity in Accidents')\n",
    "plt.xlabel('Aircraft Damage')\n",
    "plt.ylabel('Number of Accidents')\n",
    "plt.show()"
   ]
  },
  {
   "cell_type": "markdown",
   "metadata": {},
   "source": [
    "#### Analysis from the Distribution of Aircraft Severity in Accidents\n",
    "\n",
    "##### Dominance of Substantial Damage: \n",
    "\n",
    "The \"Substantial\" damage category far outweighs the others, indicating that a majority of aircraft accidents result in significant structural damage.\n",
    "##### Relatively Few Destroyed or Minor Incidents:\n",
    "\n",
    "The \"Destroyed\" and \"Minor\" categories have considerably lower counts, suggesting that most accidents do not lead to complete destruction or only minimal damage.\n",
    "##### Unknown Damage:\n",
    "\n",
    "The \"Unknown\" category represents a portion of accidents where the extent of damage was not recorded or determined.\n",
    "\n",
    "#### Potential Outcomes:\n",
    "\n",
    "##### Safety Concerns \n",
    "\n",
    "The high prevalence of substantial damage incidents highlights the need for continued efforts to improve aircraft safety and prevent severe accidents.\n",
    "\n",
    "##### Maintenance and Inspection: \n",
    "\n",
    "Regular maintenance and inspections are crucial to identify potential issues that could lead to substantial damage.\n",
    "\n",
    "##### Data Collection and Analysis: \n",
    "\n",
    "Improving data collection and analysis can help better understand the causes of aircraft accidents and inform prevention strategies."
   ]
  },
  {
   "cell_type": "markdown",
   "metadata": {},
   "source": [
    "## Analysis based on the severity of injuries during accidents"
   ]
  },
  {
   "cell_type": "code",
   "execution_count": 154,
   "metadata": {},
   "outputs": [
    {
     "name": "stderr",
     "output_type": "stream",
     "text": [
      "C:\\Users\\sarah\\AppData\\Local\\Temp\\ipykernel_9436\\4091060192.py:4: FutureWarning: \n",
      "\n",
      "Passing `palette` without assigning `hue` is deprecated and will be removed in v0.14.0. Assign the `x` variable to `hue` and set `legend=False` for the same effect.\n",
      "\n",
      "  sns.barplot(x=injury_severity.index, y=injury_severity.values, palette=\"viridis\")\n"
     ]
    },
    {
     "data": {
      "image/png": "[encoded data removed]",
      "text/plain": [
       "<Figure size 700x500 with 1 Axes>"
      ]
     },
     "metadata": {},
     "output_type": "display_data"
    }
   ],
   "source": [
    "# Injury severity \n",
    "plt.figure(figsize=(7, 5))\n",
    "injury_severity = df_aviation_filtered[['Total.Fatal.Injuries', 'Total.Serious.Injuries', 'Total.Minor.Injuries', 'Total.Uninjured']].sum()\n",
    "sns.barplot(x=injury_severity.index, y=injury_severity.values, palette=\"viridis\")\n",
    "plt.title('Injury Severity in Aviation Accidents')\n",
    "plt.ylabel('Total Count')\n",
    "plt.xlabel('Injury Severity')\n",
    "plt.show()"
   ]
  },
  {
   "cell_type": "markdown",
   "metadata": {},
   "source": [
    "#### Analysis on Injury severity in Aviation Accident\n",
    "\n",
    "Key Observations:\n",
    "\n",
    "##### Dominance of Uninjured Cases: \n",
    "\n",
    "The \"Total.Uninjured\" category far outweighs the others, indicating that a majority of aviation accidents result in no injuries.\n",
    "\n",
    "##### Fatal and Serious Injuries: \n",
    "\n",
    "The \"Total.Fatal.Injuries\" and \"Total.Serious.Injuries\" categories have significantly lower counts, suggesting that while these types of injuries do occur, they are relatively less frequent.\n",
    "\n",
    "##### Minor Injuries: \n",
    "\n",
    "The \"Total.Minor.Injuries\" category falls between the other three, indicating that minor injuries are more common than fatal or serious injuries but less frequent than uninjured cases.\n",
    "\n",
    "#### Potential Implications/View:\n",
    "\n",
    "##### Safety Improvements: \n",
    "\n",
    "The high prevalence of uninjured cases suggests that safety measures and advancements in aviation technology have been effective in preventing severe injuries and fatalities.\n",
    "\n",
    "##### Data Limitations: \n",
    "\n",
    "It's important to note that this analysis is based on the total number of injuries and doesn't account for the number of accidents or the severity of individual accidents.\n",
    "\n",
    "##### Further Analysis: \n",
    "\n",
    "To gain a more complete understanding of injury severity, it would be helpful to analyze data on the number of accidents, the severity of individual injuries, and the factors contributing to these injuries."
   ]
  },
  {
   "cell_type": "markdown",
   "metadata": {},
   "source": [
    "## Analysis based on the trend of accidents overtime"
   ]
  },
  {
   "cell_type": "code",
   "execution_count": 129,
   "metadata": {},
   "outputs": [],
   "source": [
    "#first, we are going to create a new column.\n",
    "#We'll neme the column 'Year'\n",
    "#Cleaning the event dat\n",
    "df_aviation_filtered.loc[:,'Event.Date'] = pd.to_datetime(df_aviation_filtered['Event.Date'], errors='coerce')\n"
   ]
  },
  {
   "cell_type": "code",
   "execution_count": 146,
   "metadata": {},
   "outputs": [],
   "source": [
    "df_aviation_filtered.loc[:, 'Year'] = pd.to_datetime(df_aviation_filtered['Event.Date'], errors='coerce').dt.year\n"
   ]
  },
  {
   "cell_type": "code",
   "execution_count": 147,
   "metadata": {},
   "outputs": [
    {
     "name": "stdout",
     "output_type": "stream",
     "text": [
      "<class 'pandas.core.frame.DataFrame'>\n",
      "Index: 85015 entries, 0 to 88888\n",
      "Data columns (total 12 columns):\n",
      " #   Column                  Non-Null Count  Dtype  \n",
      "---  ------                  --------------  -----  \n",
      " 0   Make                    84979 non-null  object \n",
      " 1   Model                   84955 non-null  object \n",
      " 2   Aircraft.Category       30535 non-null  object \n",
      " 3   Aircraft.damage         83555 non-null  object \n",
      " 4   Total.Fatal.Injuries    85015 non-null  float64\n",
      " 5   Total.Serious.Injuries  85015 non-null  float64\n",
      " 6   Total.Minor.Injuries    85015 non-null  float64\n",
      " 7   Total.Uninjured         85015 non-null  float64\n",
      " 8   Weather.Condition       81882 non-null  object \n",
      " 9   Broad.phase.of.flight   59806 non-null  object \n",
      " 10  Event.Date              85015 non-null  object \n",
      " 11  Year                    85015 non-null  int32  \n",
      "dtypes: float64(4), int32(1), object(7)\n",
      "memory usage: 10.1+ MB\n"
     ]
    }
   ],
   "source": [
    "df_aviation_filtered.info()"
   ]
  },
  {
   "cell_type": "code",
   "execution_count": 148,
   "metadata": {},
   "outputs": [],
   "source": [
    "# Calculate number of accidents per year\n",
    "accidents_per_year =df_aviation_filtered.groupby('Year').size()\n"
   ]
  },
  {
   "cell_type": "code",
   "execution_count": 149,
   "metadata": {},
   "outputs": [
    {
     "data": {
      "image/png": "[encoded data removed]",
      "text/plain": [
       "<Figure size 1000x600 with 1 Axes>"
      ]
     },
     "metadata": {},
     "output_type": "display_data"
    }
   ],
   "source": [
    "# Plot accidents over time\n",
    "plt.figure(figsize=(10, 6))\n",
    "sns.lineplot(x=accidents_per_year.index, y=accidents_per_year.values)\n",
    "plt.title('Trend of Aviation Accidents Over Time')\n",
    "plt.xlabel('Year')\n",
    "plt.ylabel('Number of Accidents')\n",
    "plt.show()"
   ]
  },
  {
   "cell_type": "markdown",
   "metadata": {},
   "source": [
    "#### Analysis on trend of Aviation Accidents overtime\n",
    "\n",
    "Key Observations:\n",
    "\n",
    "##### Significant Decrease: \n",
    "\n",
    "There's a clear downward trend in the number of aviation accidents over time, suggesting that safety measures and advancements in technology have been effective in reducing the occurrence of accidents.\n",
    "\n",
    "##### Sharp Drop in the 1970s: \n",
    "\n",
    "The most dramatic decrease appears to have occurred in the 1970s, possibly due to advancements in aircraft design, safety regulations, and pilot training.\n",
    "\n",
    "##### Relatively Stable Recent Years: \n",
    "\n",
    "While there's a slight upward trend in the late 2000s, the overall number of accidents has remained relatively stable in recent years.\n",
    "\n",
    "#### Potential Implications:\n",
    "\n",
    "##### Safety Improvements: \n",
    "\n",
    "The ongoing downward trend indicates that the aviation industry has made significant strides in improving safety.\n",
    "\n",
    "##### Regulatory Impact: \n",
    "\n",
    "Safety regulations, such as those implemented by the International Civil Aviation Organization (ICAO), have played a crucial role in reducing accidents.\n",
    "\n",
    "##### Technological Advancements: \n",
    "\n",
    "Advancements in aircraft design, avionics, and air traffic management systems have also contributed to improved safety.\n",
    "\n",
    "##### Data Limitations: \n",
    "\n",
    "It's important to note that this analysis is based on the overall trend and doesn't account for factors like accident severity, regional variations, or specific causes of accidents."
   ]
  },
  {
   "cell_type": "code",
   "execution_count": 151,
   "metadata": {},
   "outputs": [],
   "source": [
    "df_aviation_filtered.to_csv('cleaned_data.csv', index=False)"
   ]
  }
 ],
 "metadata": {
  "kernelspec": {
   "display_name": "Python 3 (ipykernel)",
   "language": "python",
   "name": "python3"
  },
  "language_info": {
   "codemirror_mode": {
    "name": "ipython",
    "version": 3
   },
   "file_extension": ".py",
   "mimetype": "text/x-python",
   "name": "python",
   "nbconvert_exporter": "python",
   "pygments_lexer": "ipython3",
   "version": "3.12.4"
  }
 },
 "nbformat": 4,
 "nbformat_minor": 4
}
